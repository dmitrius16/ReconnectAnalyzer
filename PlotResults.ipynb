{
 "cells": [
  {
   "cell_type": "code",
   "execution_count": 1,
   "id": "c4c2940c-9e1d-45d8-9cec-d5b93c805e88",
   "metadata": {},
   "outputs": [],
   "source": [
    "import sys\n",
    "import os\n",
    "\n",
    "src_path = os.path.join(os.getcwd(), 'src')\n",
    "sys.path.append(src_path)\n",
    "\n",
    "from reconnect_analyzer import process_logs\n",
    "\n",
    "reconn_objs = process_logs()"
   ]
  },
  {
   "cell_type": "code",
   "execution_count": 2,
   "id": "17fe464b-c458-49d8-b405-7af58928c71b",
   "metadata": {},
   "outputs": [
    {
     "name": "stdout",
     "output_type": "stream",
     "text": [
      "Disconnect number 1\n",
      "Lost conn: 331089\n",
      "reconn 331319\n",
      "delta = 230\n",
      "Disconnect reason: Sync completed with 2'nd ch\n"
     ]
    },
    {
     "ename": "AttributeError",
     "evalue": "'Reconnect_Stat' object has no attribute 'secondary_sarch_reason'",
     "output_type": "error",
     "traceback": [
      "\u001b[31m---------------------------------------------------------------------------\u001b[39m",
      "\u001b[31mAttributeError\u001b[39m                            Traceback (most recent call last)",
      "\u001b[36mCell\u001b[39m\u001b[36m \u001b[39m\u001b[32mIn[2]\u001b[39m\u001b[32m, line 8\u001b[39m\n\u001b[32m      5\u001b[39m \u001b[38;5;28;01mfrom\u001b[39;00m\u001b[38;5;250m \u001b[39m\u001b[34;01mrender_results\u001b[39;00m\u001b[38;5;250m \u001b[39m\u001b[38;5;28;01mimport\u001b[39;00m plot_graphs\n\u001b[32m      7\u001b[39m \u001b[38;5;28;01mfor\u001b[39;00m num, rec_obj \u001b[38;5;129;01min\u001b[39;00m \u001b[38;5;28menumerate\u001b[39m(reconn_objs, start=\u001b[32m1\u001b[39m):\n\u001b[32m----> \u001b[39m\u001b[32m8\u001b[39m     \u001b[43mrec_obj\u001b[49m\u001b[43m.\u001b[49m\u001b[43moutput_reconnect_info\u001b[49m\u001b[43m(\u001b[49m\u001b[43mnum\u001b[49m\u001b[43m)\u001b[49m\n\u001b[32m      9\u001b[39m     figures = plot_graphs(rec_obj.qualities_before_disconn)\n\u001b[32m     10\u001b[39m     \u001b[38;5;28;01mfor\u001b[39;00m f \u001b[38;5;129;01min\u001b[39;00m figures:\n",
      "\u001b[36mFile \u001b[39m\u001b[32m~\\work\\TractPrj\\BeltPack_Test\\ReconnectAnalyzer\\ReconnectAnalyzer\\src\\reconnect_stat.py:170\u001b[39m, in \u001b[36mReconnect_Stat.output_reconnect_info\u001b[39m\u001b[34m(self, disconn_num)\u001b[39m\n\u001b[32m    168\u001b[39m \u001b[38;5;28mprint\u001b[39m(\u001b[33mf\u001b[39m\u001b[33m\"\u001b[39m\u001b[33mLost conn: \u001b[39m\u001b[38;5;132;01m{\u001b[39;00m\u001b[38;5;28mself\u001b[39m.start_tm\u001b[38;5;132;01m}\u001b[39;00m\u001b[38;5;130;01m\\n\u001b[39;00m\u001b[33mreconn \u001b[39m\u001b[38;5;132;01m{\u001b[39;00m\u001b[38;5;28mself\u001b[39m.end_tm\u001b[38;5;132;01m}\u001b[39;00m\u001b[38;5;130;01m\\n\u001b[39;00m\u001b[33mdelta = \u001b[39m\u001b[38;5;132;01m{\u001b[39;00m\u001b[38;5;28mself\u001b[39m.end_tm\u001b[38;5;250m \u001b[39m-\u001b[38;5;250m \u001b[39m\u001b[38;5;28mself\u001b[39m.start_tm\u001b[38;5;132;01m}\u001b[39;00m\u001b[33m\"\u001b[39m)\n\u001b[32m    169\u001b[39m \u001b[38;5;28mprint\u001b[39m(\u001b[33mf\u001b[39m\u001b[33m\"\u001b[39m\u001b[33mDisconnect reason: \u001b[39m\u001b[38;5;132;01m{\u001b[39;00m\u001b[38;5;28mself\u001b[39m.disconn_reason\u001b[38;5;132;01m}\u001b[39;00m\u001b[33m\"\u001b[39m)\n\u001b[32m--> \u001b[39m\u001b[32m170\u001b[39m \u001b[38;5;28;01mif\u001b[39;00m \u001b[38;5;28;43mself\u001b[39;49m\u001b[43m.\u001b[49m\u001b[43msecondary_sarch_reason\u001b[49m:\n\u001b[32m    171\u001b[39m     \u001b[38;5;28mprint\u001b[39m(\u001b[33mf\u001b[39m\u001b[33m\"\u001b[39m\u001b[33mParallel search reason \u001b[39m\u001b[38;5;132;01m{\u001b[39;00m\u001b[38;5;28mself\u001b[39m.secondary_search_reason\u001b[38;5;132;01m}\u001b[39;00m\u001b[33m\"\u001b[39m)\n\u001b[32m    172\u001b[39m \u001b[38;5;28;01melif\u001b[39;00m \u001b[38;5;28mself\u001b[39m.force_disc_reason:\n",
      "\u001b[31mAttributeError\u001b[39m: 'Reconnect_Stat' object has no attribute 'secondary_sarch_reason'"
     ]
    }
   ],
   "source": [
    "%matplotlib notebook\n",
    "\n",
    "import matplotlib.pyplot as plt\n",
    "\n",
    "from render_results import plot_graphs\n",
    "\n",
    "for num, rec_obj in enumerate(reconn_objs, start=1):\n",
    "    rec_obj.output_reconnect_info(num)\n",
    "    figures = plot_graphs(rec_obj.qualities_before_disconn)\n",
    "    for f in figures:\n",
    "        display(f)\n",
    "        plt.close(f)"
   ]
  },
  {
   "cell_type": "code",
   "execution_count": null,
   "id": "dee4df1d-d958-4a17-9b8e-81bf23aa4b2c",
   "metadata": {},
   "outputs": [],
   "source": []
  }
 ],
 "metadata": {
  "kernelspec": {
   "display_name": "Python 3 (ipykernel)",
   "language": "python",
   "name": "python3"
  },
  "language_info": {
   "codemirror_mode": {
    "name": "ipython",
    "version": 3
   },
   "file_extension": ".py",
   "mimetype": "text/x-python",
   "name": "python",
   "nbconvert_exporter": "python",
   "pygments_lexer": "ipython3",
   "version": "3.12.0"
  }
 },
 "nbformat": 4,
 "nbformat_minor": 5
}
